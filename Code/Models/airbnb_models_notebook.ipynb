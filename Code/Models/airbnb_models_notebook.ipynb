{
 "cells": [
  {
   "cell_type": "code",
   "execution_count": 2,
   "metadata": {
    "tags": []
   },
   "outputs": [
    {
     "ename": "ModuleNotFoundError",
     "evalue": "No module named 'xgboost'",
     "output_type": "error",
     "traceback": [
      "\u001b[0;31m---------------------------------------------------------------------------\u001b[0m",
      "\u001b[0;31mModuleNotFoundError\u001b[0m                       Traceback (most recent call last)",
      "Cell \u001b[0;32mIn[2], line 8\u001b[0m\n\u001b[1;32m      6\u001b[0m \u001b[38;5;28;01mfrom\u001b[39;00m \u001b[38;5;21;01msklearn\u001b[39;00m\u001b[38;5;21;01m.\u001b[39;00m\u001b[38;5;21;01mpreprocessing\u001b[39;00m \u001b[38;5;28;01mimport\u001b[39;00m LabelEncoder, StandardScaler, LabelBinarizer\n\u001b[1;32m      7\u001b[0m \u001b[38;5;28;01mfrom\u001b[39;00m \u001b[38;5;21;01msklearn\u001b[39;00m\u001b[38;5;21;01m.\u001b[39;00m\u001b[38;5;21;01mmodel_selection\u001b[39;00m \u001b[38;5;28;01mimport\u001b[39;00m train_test_split\n\u001b[0;32m----> 8\u001b[0m \u001b[38;5;28;01mimport\u001b[39;00m \u001b[38;5;21;01mxgboost\u001b[39;00m \u001b[38;5;28;01mas\u001b[39;00m \u001b[38;5;21;01mxgb\u001b[39;00m\n\u001b[1;32m      9\u001b[0m \u001b[38;5;28;01mfrom\u001b[39;00m \u001b[38;5;21;01mxgboost\u001b[39;00m \u001b[38;5;28;01mimport\u001b[39;00m XGBRegressor\n\u001b[1;32m     10\u001b[0m \u001b[38;5;28;01mfrom\u001b[39;00m \u001b[38;5;21;01msklearn\u001b[39;00m\u001b[38;5;21;01m.\u001b[39;00m\u001b[38;5;21;01mmetrics\u001b[39;00m \u001b[38;5;28;01mimport\u001b[39;00m mean_squared_error, r2_score\n",
      "\u001b[0;31mModuleNotFoundError\u001b[0m: No module named 'xgboost'"
     ]
    }
   ],
   "source": [
    "import numpy as np\n",
    "import pandas as pd\n",
    "import plotly.express as px\n",
    "import seaborn as sns\n",
    "import matplotlib.pyplot as plt\n",
    "from sklearn.preprocessing import LabelEncoder, StandardScaler, LabelBinarizer\n",
    "from sklearn.model_selection import train_test_split\n",
    "import xgboost as xgb\n",
    "from xgboost import XGBRegressor\n",
    "from sklearn.metrics import mean_squared_error, r2_score\n",
    "from sklearn.model_selection import GridSearchCV\n",
    "from sklearn.linear_model import LinearRegression\n",
    "from sklearn.metrics import mean_squared_error\n",
    "import lightgbm as lgb\n",
    "from sklearn.metrics import mean_squared_error, r2_score\n",
    "\n"
   ]
  },
  {
   "cell_type": "code",
   "execution_count": 2,
   "metadata": {
    "execution": {
     "iopub.execute_input": "2023-05-18T20:59:19.355085Z",
     "iopub.status.busy": "2023-05-18T20:59:19.354742Z",
     "iopub.status.idle": "2023-05-18T20:59:19.736322Z",
     "shell.execute_reply": "2023-05-18T20:59:19.735399Z",
     "shell.execute_reply.started": "2023-05-18T20:59:19.355053Z"
    }
   },
   "outputs": [
    {
     "data": {
      "text/html": [
       "<div>\n",
       "<style scoped>\n",
       "    .dataframe tbody tr th:only-of-type {\n",
       "        vertical-align: middle;\n",
       "    }\n",
       "\n",
       "    .dataframe tbody tr th {\n",
       "        vertical-align: top;\n",
       "    }\n",
       "\n",
       "    .dataframe thead th {\n",
       "        text-align: right;\n",
       "    }\n",
       "</style>\n",
       "<table border=\"1\" class=\"dataframe\">\n",
       "  <thead>\n",
       "    <tr style=\"text-align: right;\">\n",
       "      <th></th>\n",
       "      <th>city</th>\n",
       "      <th>state</th>\n",
       "      <th>coast</th>\n",
       "      <th>title</th>\n",
       "      <th>title_cleaned</th>\n",
       "      <th>price</th>\n",
       "      <th>current_price_cleaned</th>\n",
       "      <th>is_price_discounted_cleaned</th>\n",
       "      <th>link</th>\n",
       "      <th>room_type</th>\n",
       "      <th>...</th>\n",
       "      <th>rating_Check-in</th>\n",
       "      <th>rating_Value</th>\n",
       "      <th>superhost</th>\n",
       "      <th>is_superhost</th>\n",
       "      <th>house_rules</th>\n",
       "      <th>house_rules_cleaned</th>\n",
       "      <th>is_house_rules_present</th>\n",
       "      <th>num_of_amenities</th>\n",
       "      <th>available_amenities</th>\n",
       "      <th>available_amenities_cleaned</th>\n",
       "    </tr>\n",
       "  </thead>\n",
       "  <tbody>\n",
       "    <tr>\n",
       "      <th>0</th>\n",
       "      <td>Washington</td>\n",
       "      <td>D.C.</td>\n",
       "      <td>East</td>\n",
       "      <td>PRO CLEANED! AMAZING Location - Steps 2 Union ...</td>\n",
       "      <td>PRO CLEANED! AMAZING Location - Steps 2 Union ...</td>\n",
       "      <td>$229 \\n$111 \\nnight\\n$111 per night, originall...</td>\n",
       "      <td>111</td>\n",
       "      <td>True</td>\n",
       "      <td>https://www.airbnb.com/rooms/37881373?adults=1...</td>\n",
       "      <td>Apartment in Washington</td>\n",
       "      <td>...</td>\n",
       "      <td>4.9</td>\n",
       "      <td>4.7</td>\n",
       "      <td>Superhost</td>\n",
       "      <td>True</td>\n",
       "      <td>['2 guests maximum', 'No pets', 'Check-in afte...</td>\n",
       "      <td>'2 guests maximum', 'No pets', 'Check-in after...</td>\n",
       "      <td>True</td>\n",
       "      <td>27</td>\n",
       "      <td>['Kitchen', 'Wifi', 'Dedicated workspace', 'TV...</td>\n",
       "      <td>'Kitchen', 'Wifi', 'Dedicated workspace', 'TV'...</td>\n",
       "    </tr>\n",
       "    <tr>\n",
       "      <th>1</th>\n",
       "      <td>Washington</td>\n",
       "      <td>D.C.</td>\n",
       "      <td>East</td>\n",
       "      <td>Mellow travelers welcome, share bathroom, frie...</td>\n",
       "      <td>Mellow travelers welcome, share bathroom, frie...</td>\n",
       "      <td>$67 \\nnight\\n$67 per night</td>\n",
       "      <td>67</td>\n",
       "      <td>False</td>\n",
       "      <td>https://www.airbnb.com/rooms/50545033?adults=1...</td>\n",
       "      <td>Private room in Washington</td>\n",
       "      <td>...</td>\n",
       "      <td>5.0</td>\n",
       "      <td>4.9</td>\n",
       "      <td>Superhost</td>\n",
       "      <td>True</td>\n",
       "      <td>['', '', '', '', 'Quiet hours', 'Self check-in...</td>\n",
       "      <td>'Quiet hours', 'Self check-in with keypad', '...</td>\n",
       "      <td>True</td>\n",
       "      <td>29</td>\n",
       "      <td>['Fast wifi – 54 Mbps', 'Central air condition...</td>\n",
       "      <td>'Fast wifi – 54 Mbps', 'Central air conditioni...</td>\n",
       "    </tr>\n",
       "    <tr>\n",
       "      <th>2</th>\n",
       "      <td>Washington</td>\n",
       "      <td>D.C.</td>\n",
       "      <td>East</td>\n",
       "      <td>Premium King B - Yotel Washington DC</td>\n",
       "      <td>Premium King B - Yotel Washington DC</td>\n",
       "      <td>$230 \\n$178 \\nnight\\n$178 per night, originall...</td>\n",
       "      <td>178</td>\n",
       "      <td>True</td>\n",
       "      <td>https://www.airbnb.com/rooms/52255241?adults=1...</td>\n",
       "      <td>Hotel room in Washington</td>\n",
       "      <td>...</td>\n",
       "      <td>4.7</td>\n",
       "      <td>4.3</td>\n",
       "      <td>-</td>\n",
       "      <td>False</td>\n",
       "      <td>['2 guests maximum', 'Check-in after 3:00 PM',...</td>\n",
       "      <td>'2 guests maximum', 'Check-in after 3:00 PM', ...</td>\n",
       "      <td>True</td>\n",
       "      <td>8</td>\n",
       "      <td>['Wifi', 'TV', 'Air conditioning', 'Hair dryer...</td>\n",
       "      <td>'Wifi', 'TV', 'Air conditioning', 'Hair dryer'</td>\n",
       "    </tr>\n",
       "    <tr>\n",
       "      <th>3</th>\n",
       "      <td>Washington</td>\n",
       "      <td>D.C.</td>\n",
       "      <td>East</td>\n",
       "      <td>Cute and Convenient, 5 mins to Metro</td>\n",
       "      <td>Cute and Convenient, 5 mins to Metro</td>\n",
       "      <td>$85 \\nnight\\n$85 per night</td>\n",
       "      <td>85</td>\n",
       "      <td>False</td>\n",
       "      <td>https://www.airbnb.com/rooms/86602335525127075...</td>\n",
       "      <td>Apartment in Washington</td>\n",
       "      <td>...</td>\n",
       "      <td>NaN</td>\n",
       "      <td>NaN</td>\n",
       "      <td>-</td>\n",
       "      <td>False</td>\n",
       "      <td>['4 guests maximum', 'No pets', 'Check-in afte...</td>\n",
       "      <td>'4 guests maximum', 'No pets', 'Check-in after...</td>\n",
       "      <td>True</td>\n",
       "      <td>43</td>\n",
       "      <td>['Kitchen', 'Wifi', 'Dedicated workspace', 'Fr...</td>\n",
       "      <td>'Kitchen', 'Wifi', 'Dedicated workspace', 'Fre...</td>\n",
       "    </tr>\n",
       "    <tr>\n",
       "      <th>4</th>\n",
       "      <td>Washington</td>\n",
       "      <td>D.C.</td>\n",
       "      <td>East</td>\n",
       "      <td>5 Star Cap Hill Apt-Free Parking-Best Location!</td>\n",
       "      <td>5 Star Cap Hill Apt-Free Parking-Best Location!</td>\n",
       "      <td>$124 \\nnight\\n$124 per night</td>\n",
       "      <td>124</td>\n",
       "      <td>False</td>\n",
       "      <td>https://www.airbnb.com/rooms/38478357?adults=1...</td>\n",
       "      <td>Apartment in Washington</td>\n",
       "      <td>...</td>\n",
       "      <td>5.0</td>\n",
       "      <td>5.0</td>\n",
       "      <td>Superhost</td>\n",
       "      <td>True</td>\n",
       "      <td>['2 guests maximum', 'No pets', 'Check-in afte...</td>\n",
       "      <td>'2 guests maximum', 'No pets', 'Check-in after...</td>\n",
       "      <td>True</td>\n",
       "      <td>44</td>\n",
       "      <td>['Park view', 'Kitchen', 'Wifi', 'Dedicated wo...</td>\n",
       "      <td>'Park view', 'Kitchen', 'Wifi', 'Dedicated wor...</td>\n",
       "    </tr>\n",
       "  </tbody>\n",
       "</table>\n",
       "<p>5 rows × 33 columns</p>\n",
       "</div>"
      ],
      "text/plain": [
       "         city state coast                                              title  \\\n",
       "0  Washington  D.C.  East  PRO CLEANED! AMAZING Location - Steps 2 Union ...   \n",
       "1  Washington  D.C.  East  Mellow travelers welcome, share bathroom, frie...   \n",
       "2  Washington  D.C.  East               Premium King B - Yotel Washington DC   \n",
       "3  Washington  D.C.  East               Cute and Convenient, 5 mins to Metro   \n",
       "4  Washington  D.C.  East    5 Star Cap Hill Apt-Free Parking-Best Location!   \n",
       "\n",
       "                                       title_cleaned  \\\n",
       "0  PRO CLEANED! AMAZING Location - Steps 2 Union ...   \n",
       "1  Mellow travelers welcome, share bathroom, frie...   \n",
       "2               Premium King B - Yotel Washington DC   \n",
       "3               Cute and Convenient, 5 mins to Metro   \n",
       "4    5 Star Cap Hill Apt-Free Parking-Best Location!   \n",
       "\n",
       "                                               price  current_price_cleaned  \\\n",
       "0  $229 \\n$111 \\nnight\\n$111 per night, originall...                    111   \n",
       "1                         $67 \\nnight\\n$67 per night                     67   \n",
       "2  $230 \\n$178 \\nnight\\n$178 per night, originall...                    178   \n",
       "3                         $85 \\nnight\\n$85 per night                     85   \n",
       "4                       $124 \\nnight\\n$124 per night                    124   \n",
       "\n",
       "   is_price_discounted_cleaned  \\\n",
       "0                         True   \n",
       "1                        False   \n",
       "2                         True   \n",
       "3                        False   \n",
       "4                        False   \n",
       "\n",
       "                                                link  \\\n",
       "0  https://www.airbnb.com/rooms/37881373?adults=1...   \n",
       "1  https://www.airbnb.com/rooms/50545033?adults=1...   \n",
       "2  https://www.airbnb.com/rooms/52255241?adults=1...   \n",
       "3  https://www.airbnb.com/rooms/86602335525127075...   \n",
       "4  https://www.airbnb.com/rooms/38478357?adults=1...   \n",
       "\n",
       "                    room_type  ... rating_Check-in  rating_Value  superhost  \\\n",
       "0     Apartment in Washington  ...             4.9           4.7  Superhost   \n",
       "1  Private room in Washington  ...             5.0           4.9  Superhost   \n",
       "2    Hotel room in Washington  ...             4.7           4.3          -   \n",
       "3     Apartment in Washington  ...             NaN           NaN          -   \n",
       "4     Apartment in Washington  ...             5.0           5.0  Superhost   \n",
       "\n",
       "   is_superhost                                        house_rules  \\\n",
       "0          True  ['2 guests maximum', 'No pets', 'Check-in afte...   \n",
       "1          True  ['', '', '', '', 'Quiet hours', 'Self check-in...   \n",
       "2         False  ['2 guests maximum', 'Check-in after 3:00 PM',...   \n",
       "3         False  ['4 guests maximum', 'No pets', 'Check-in afte...   \n",
       "4          True  ['2 guests maximum', 'No pets', 'Check-in afte...   \n",
       "\n",
       "                                 house_rules_cleaned  is_house_rules_present  \\\n",
       "0  '2 guests maximum', 'No pets', 'Check-in after...                    True   \n",
       "1   'Quiet hours', 'Self check-in with keypad', '...                    True   \n",
       "2  '2 guests maximum', 'Check-in after 3:00 PM', ...                    True   \n",
       "3  '4 guests maximum', 'No pets', 'Check-in after...                    True   \n",
       "4  '2 guests maximum', 'No pets', 'Check-in after...                    True   \n",
       "\n",
       "   num_of_amenities                                available_amenities  \\\n",
       "0                27  ['Kitchen', 'Wifi', 'Dedicated workspace', 'TV...   \n",
       "1                29  ['Fast wifi – 54 Mbps', 'Central air condition...   \n",
       "2                 8  ['Wifi', 'TV', 'Air conditioning', 'Hair dryer...   \n",
       "3                43  ['Kitchen', 'Wifi', 'Dedicated workspace', 'Fr...   \n",
       "4                44  ['Park view', 'Kitchen', 'Wifi', 'Dedicated wo...   \n",
       "\n",
       "                         available_amenities_cleaned  \n",
       "0  'Kitchen', 'Wifi', 'Dedicated workspace', 'TV'...  \n",
       "1  'Fast wifi – 54 Mbps', 'Central air conditioni...  \n",
       "2     'Wifi', 'TV', 'Air conditioning', 'Hair dryer'  \n",
       "3  'Kitchen', 'Wifi', 'Dedicated workspace', 'Fre...  \n",
       "4  'Park view', 'Kitchen', 'Wifi', 'Dedicated wor...  \n",
       "\n",
       "[5 rows x 33 columns]"
      ]
     },
     "execution_count": 2,
     "metadata": {},
     "output_type": "execute_result"
    }
   ],
   "source": [
    "# read in dataset\n",
    "df = pd.read_csv('../../Dataset/model_ready_dataset.csv')\n",
    "df.head()"
   ]
  },
  {
   "cell_type": "code",
   "execution_count": 3,
   "metadata": {
    "execution": {
     "iopub.execute_input": "2023-05-18T20:59:19.738157Z",
     "iopub.status.busy": "2023-05-18T20:59:19.737818Z",
     "iopub.status.idle": "2023-05-18T20:59:19.815004Z",
     "shell.execute_reply": "2023-05-18T20:59:19.814063Z",
     "shell.execute_reply.started": "2023-05-18T20:59:19.738126Z"
    }
   },
   "outputs": [
    {
     "name": "stdout",
     "output_type": "stream",
     "text": [
      "<class 'pandas.core.frame.DataFrame'>\n",
      "RangeIndex: 13446 entries, 0 to 13445\n",
      "Data columns (total 33 columns):\n",
      " #   Column                       Non-Null Count  Dtype  \n",
      "---  ------                       --------------  -----  \n",
      " 0   city                         13446 non-null  object \n",
      " 1   state                        13446 non-null  object \n",
      " 2   coast                        13446 non-null  object \n",
      " 3   title                        13446 non-null  object \n",
      " 4   title_cleaned                13446 non-null  object \n",
      " 5   price                        13446 non-null  object \n",
      " 6   current_price_cleaned        13446 non-null  int64  \n",
      " 7   is_price_discounted_cleaned  13446 non-null  bool   \n",
      " 8   link                         13446 non-null  object \n",
      " 9   room_type                    13446 non-null  object \n",
      " 10  room_type_cleaned            13446 non-null  object \n",
      " 11  max_guests                   13446 non-null  int64  \n",
      " 12  num_rooms                    13446 non-null  int64  \n",
      " 13  num_beds                     13446 non-null  int64  \n",
      " 14  num_baths                    13446 non-null  float64\n",
      " 15  rating                       11894 non-null  float64\n",
      " 16  is_rating_present            13446 non-null  bool   \n",
      " 17  reviews                      12076 non-null  float64\n",
      " 18  is_reviews_present           13446 non-null  bool   \n",
      " 19  rating_Cleanliness           11651 non-null  float64\n",
      " 20  rating_Accuracy              11651 non-null  float64\n",
      " 21  rating_Communication         11651 non-null  float64\n",
      " 22  rating_Location              11651 non-null  float64\n",
      " 23  rating_Check-in              11651 non-null  float64\n",
      " 24  rating_Value                 11651 non-null  float64\n",
      " 25  superhost                    13446 non-null  object \n",
      " 26  is_superhost                 13446 non-null  bool   \n",
      " 27  house_rules                  13446 non-null  object \n",
      " 28  house_rules_cleaned          13192 non-null  object \n",
      " 29  is_house_rules_present       13446 non-null  bool   \n",
      " 30  num_of_amenities             13446 non-null  int64  \n",
      " 31  available_amenities          13446 non-null  object \n",
      " 32  available_amenities_cleaned  13445 non-null  object \n",
      "dtypes: bool(5), float64(9), int64(5), object(14)\n",
      "memory usage: 2.9+ MB\n"
     ]
    }
   ],
   "source": [
    "df.info()"
   ]
  },
  {
   "cell_type": "code",
   "execution_count": 4,
   "metadata": {
    "execution": {
     "iopub.execute_input": "2023-05-18T20:59:19.818219Z",
     "iopub.status.busy": "2023-05-18T20:59:19.817867Z",
     "iopub.status.idle": "2023-05-18T20:59:19.827497Z",
     "shell.execute_reply": "2023-05-18T20:59:19.826510Z",
     "shell.execute_reply.started": "2023-05-18T20:59:19.818186Z"
    }
   },
   "outputs": [
    {
     "data": {
      "text/plain": [
       "0        111\n",
       "1         67\n",
       "2        178\n",
       "3         85\n",
       "4        124\n",
       "        ... \n",
       "13441     40\n",
       "13442     41\n",
       "13443     72\n",
       "13444     75\n",
       "13445     54\n",
       "Name: current_price_cleaned, Length: 13446, dtype: int64"
      ]
     },
     "execution_count": 4,
     "metadata": {},
     "output_type": "execute_result"
    }
   ],
   "source": [
    "df['current_price_cleaned']"
   ]
  },
  {
   "cell_type": "markdown",
   "metadata": {},
   "source": [
    "## Pre-processing dataset"
   ]
  },
  {
   "cell_type": "code",
   "execution_count": 5,
   "metadata": {
    "execution": {
     "iopub.execute_input": "2023-05-18T20:59:19.829157Z",
     "iopub.status.busy": "2023-05-18T20:59:19.828755Z",
     "iopub.status.idle": "2023-05-18T20:59:19.859643Z",
     "shell.execute_reply": "2023-05-18T20:59:19.858751Z",
     "shell.execute_reply.started": "2023-05-18T20:59:19.829126Z"
    }
   },
   "outputs": [],
   "source": [
    "# Convert catogorical variables to numeric & check the correlations \n",
    "lb = LabelEncoder()\n",
    "\n",
    "df_num = df.copy()\n",
    "df_num['room_type_numeric'] = LabelEncoder().fit_transform(df_num['room_type_cleaned'])\n",
    "df_num['city_numeric'] = LabelEncoder().fit_transform(df_num['city'])\n",
    "df_num['coast_numeric'] = LabelEncoder().fit_transform(df_num['coast'])\n",
    "df_num['state_numeric'] = LabelEncoder().fit_transform(df_num['state'])\n",
    "df_num['is_superhost'] = LabelEncoder().fit_transform(df_num['is_superhost'])\n",
    "df_num['is_price_discounted_cleaned'] = LabelEncoder().fit_transform(df_num['is_price_discounted_cleaned'])"
   ]
  },
  {
   "cell_type": "code",
   "execution_count": 6,
   "metadata": {
    "execution": {
     "iopub.execute_input": "2023-05-18T20:59:19.861566Z",
     "iopub.status.busy": "2023-05-18T20:59:19.860820Z",
     "iopub.status.idle": "2023-05-18T20:59:19.879500Z",
     "shell.execute_reply": "2023-05-18T20:59:19.878399Z",
     "shell.execute_reply.started": "2023-05-18T20:59:19.861533Z"
    }
   },
   "outputs": [
    {
     "data": {
      "text/plain": [
       "0        4.82\n",
       "1        4.94\n",
       "2        4.54\n",
       "4        4.99\n",
       "5        4.96\n",
       "         ... \n",
       "13441    4.86\n",
       "13442    4.73\n",
       "13443    4.86\n",
       "13444    5.00\n",
       "13445    5.00\n",
       "Name: rating, Length: 11894, dtype: float64"
      ]
     },
     "execution_count": 6,
     "metadata": {},
     "output_type": "execute_result"
    }
   ],
   "source": [
    "# Filter out rows with NaN values in the rating column\n",
    "df_num = df_num[df_num[\"rating\"].isna() == False]\n",
    "df_num[\"rating\"]"
   ]
  },
  {
   "cell_type": "code",
   "execution_count": 7,
   "metadata": {
    "execution": {
     "iopub.execute_input": "2023-05-18T20:59:19.881438Z",
     "iopub.status.busy": "2023-05-18T20:59:19.881038Z",
     "iopub.status.idle": "2023-05-18T20:59:19.894001Z",
     "shell.execute_reply": "2023-05-18T20:59:19.892899Z",
     "shell.execute_reply.started": "2023-05-18T20:59:19.881393Z"
    }
   },
   "outputs": [
    {
     "data": {
      "text/plain": [
       "(11651, 37)"
      ]
     },
     "execution_count": 7,
     "metadata": {},
     "output_type": "execute_result"
    }
   ],
   "source": [
    "# Filter out rows with NaN values in the rating category columns\n",
    "df_num = df_num[df_num[\"rating_Cleanliness\"].isna() == False]\n",
    "df_num.shape"
   ]
  },
  {
   "cell_type": "code",
   "execution_count": 8,
   "metadata": {
    "execution": {
     "iopub.execute_input": "2023-05-18T20:59:19.895965Z",
     "iopub.status.busy": "2023-05-18T20:59:19.895584Z",
     "iopub.status.idle": "2023-05-18T20:59:19.907643Z",
     "shell.execute_reply": "2023-05-18T20:59:19.906330Z",
     "shell.execute_reply.started": "2023-05-18T20:59:19.895935Z"
    }
   },
   "outputs": [
    {
     "data": {
      "text/plain": [
       "(11651, 36)"
      ]
     },
     "execution_count": 8,
     "metadata": {},
     "output_type": "execute_result"
    }
   ],
   "source": [
    "# drop the old price column as we already have another column for price\n",
    "df_num = df_num.drop(columns=['price'])\n",
    "df_num.shape"
   ]
  },
  {
   "cell_type": "code",
   "execution_count": 9,
   "metadata": {
    "execution": {
     "iopub.execute_input": "2023-05-18T20:59:19.909902Z",
     "iopub.status.busy": "2023-05-18T20:59:19.909449Z",
     "iopub.status.idle": "2023-05-18T20:59:19.915780Z",
     "shell.execute_reply": "2023-05-18T20:59:19.914598Z",
     "shell.execute_reply.started": "2023-05-18T20:59:19.909864Z"
    }
   },
   "outputs": [],
   "source": [
    "# drop any columns that don't contain numeric data\n",
    "reduced_df = df_num.select_dtypes(include=[\"number\"])"
   ]
  },
  {
   "cell_type": "code",
   "execution_count": 10,
   "metadata": {
    "execution": {
     "iopub.execute_input": "2023-05-18T20:59:19.921716Z",
     "iopub.status.busy": "2023-05-18T20:59:19.920910Z",
     "iopub.status.idle": "2023-05-18T20:59:19.937659Z",
     "shell.execute_reply": "2023-05-18T20:59:19.936617Z",
     "shell.execute_reply.started": "2023-05-18T20:59:19.921671Z"
    }
   },
   "outputs": [
    {
     "name": "stdout",
     "output_type": "stream",
     "text": [
      "<class 'pandas.core.frame.DataFrame'>\n",
      "Int64Index: 11651 entries, 0 to 13445\n",
      "Data columns (total 20 columns):\n",
      " #   Column                       Non-Null Count  Dtype  \n",
      "---  ------                       --------------  -----  \n",
      " 0   current_price_cleaned        11651 non-null  int64  \n",
      " 1   is_price_discounted_cleaned  11651 non-null  int64  \n",
      " 2   max_guests                   11651 non-null  int64  \n",
      " 3   num_rooms                    11651 non-null  int64  \n",
      " 4   num_beds                     11651 non-null  int64  \n",
      " 5   num_baths                    11651 non-null  float64\n",
      " 6   rating                       11651 non-null  float64\n",
      " 7   reviews                      11651 non-null  float64\n",
      " 8   rating_Cleanliness           11651 non-null  float64\n",
      " 9   rating_Accuracy              11651 non-null  float64\n",
      " 10  rating_Communication         11651 non-null  float64\n",
      " 11  rating_Location              11651 non-null  float64\n",
      " 12  rating_Check-in              11651 non-null  float64\n",
      " 13  rating_Value                 11651 non-null  float64\n",
      " 14  is_superhost                 11651 non-null  int64  \n",
      " 15  num_of_amenities             11651 non-null  int64  \n",
      " 16  room_type_numeric            11651 non-null  int64  \n",
      " 17  city_numeric                 11651 non-null  int64  \n",
      " 18  coast_numeric                11651 non-null  int64  \n",
      " 19  state_numeric                11651 non-null  int64  \n",
      "dtypes: float64(9), int64(11)\n",
      "memory usage: 1.9 MB\n"
     ]
    }
   ],
   "source": [
    "reduced_df.info()"
   ]
  },
  {
   "cell_type": "code",
   "execution_count": 11,
   "metadata": {
    "execution": {
     "iopub.execute_input": "2023-05-18T20:59:19.939739Z",
     "iopub.status.busy": "2023-05-18T20:59:19.939292Z",
     "iopub.status.idle": "2023-05-18T20:59:19.946919Z",
     "shell.execute_reply": "2023-05-18T20:59:19.945867Z",
     "shell.execute_reply.started": "2023-05-18T20:59:19.939707Z"
    }
   },
   "outputs": [
    {
     "data": {
      "text/plain": [
       "(11651, 20)"
      ]
     },
     "execution_count": 11,
     "metadata": {},
     "output_type": "execute_result"
    }
   ],
   "source": [
    "reduced_df.shape"
   ]
  },
  {
   "cell_type": "markdown",
   "metadata": {},
   "source": [
    "\n",
    "# Predict: Price"
   ]
  },
  {
   "cell_type": "code",
   "execution_count": 12,
   "metadata": {
    "execution": {
     "iopub.execute_input": "2023-05-18T20:59:19.949785Z",
     "iopub.status.busy": "2023-05-18T20:59:19.948485Z",
     "iopub.status.idle": "2023-05-18T20:59:19.957141Z",
     "shell.execute_reply": "2023-05-18T20:59:19.956168Z",
     "shell.execute_reply.started": "2023-05-18T20:59:19.949745Z"
    }
   },
   "outputs": [],
   "source": [
    "# only consider features we consider to be important to predict price target variable\n",
    "columns_to_keep_price = ['max_guests', 'num_beds', 'num_baths', 'num_rooms', 'num_of_amenities',\n",
    "                   'current_price_cleaned','rating']"
   ]
  },
  {
   "cell_type": "code",
   "execution_count": 13,
   "metadata": {
    "execution": {
     "iopub.execute_input": "2023-05-18T20:59:19.960897Z",
     "iopub.status.busy": "2023-05-18T20:59:19.960075Z",
     "iopub.status.idle": "2023-05-18T20:59:19.986329Z",
     "shell.execute_reply": "2023-05-18T20:59:19.984688Z",
     "shell.execute_reply.started": "2023-05-18T20:59:19.960863Z"
    }
   },
   "outputs": [
    {
     "name": "stdout",
     "output_type": "stream",
     "text": [
      "<class 'pandas.core.frame.DataFrame'>\n",
      "Int64Index: 11651 entries, 0 to 13445\n",
      "Data columns (total 7 columns):\n",
      " #   Column                 Non-Null Count  Dtype  \n",
      "---  ------                 --------------  -----  \n",
      " 0   max_guests             11651 non-null  int64  \n",
      " 1   num_beds               11651 non-null  int64  \n",
      " 2   num_baths              11651 non-null  float64\n",
      " 3   num_rooms              11651 non-null  int64  \n",
      " 4   num_of_amenities       11651 non-null  int64  \n",
      " 5   current_price_cleaned  11651 non-null  int64  \n",
      " 6   rating                 11651 non-null  float64\n",
      "dtypes: float64(2), int64(5)\n",
      "memory usage: 728.2 KB\n"
     ]
    }
   ],
   "source": [
    "df_price = reduced_df[columns_to_keep_price]\n",
    "df_price.info()"
   ]
  },
  {
   "cell_type": "code",
   "execution_count": 14,
   "metadata": {
    "execution": {
     "iopub.execute_input": "2023-05-18T20:59:19.992537Z",
     "iopub.status.busy": "2023-05-18T20:59:19.991999Z",
     "iopub.status.idle": "2023-05-18T20:59:20.006423Z",
     "shell.execute_reply": "2023-05-18T20:59:20.005541Z",
     "shell.execute_reply.started": "2023-05-18T20:59:19.992504Z"
    }
   },
   "outputs": [],
   "source": [
    "# train-test split\n",
    "X_price = df_price.drop(columns=['current_price_cleaned'])\n",
    "y_price = np.log1p(df_price['current_price_cleaned'])\n",
    "\n",
    "Xtrain_price, Xtest_price, ytrain_price, ytest_price = train_test_split(X_price, y_price, test_size=0.2, random_state=3)"
   ]
  },
  {
   "cell_type": "code",
   "execution_count": 15,
   "metadata": {
    "execution": {
     "iopub.execute_input": "2023-05-18T20:59:20.012990Z",
     "iopub.status.busy": "2023-05-18T20:59:20.009778Z",
     "iopub.status.idle": "2023-05-18T20:59:20.021904Z",
     "shell.execute_reply": "2023-05-18T20:59:20.020962Z",
     "shell.execute_reply.started": "2023-05-18T20:59:20.012959Z"
    }
   },
   "outputs": [
    {
     "data": {
      "text/plain": [
       "((9320, 6), (2331, 6))"
      ]
     },
     "execution_count": 15,
     "metadata": {},
     "output_type": "execute_result"
    }
   ],
   "source": [
    "Xtrain_price.shape, Xtest_price.shape"
   ]
  },
  {
   "cell_type": "markdown",
   "metadata": {},
   "source": [
    "## Model 1: XGBoost"
   ]
  },
  {
   "cell_type": "code",
   "execution_count": 16,
   "metadata": {
    "execution": {
     "iopub.execute_input": "2023-05-18T20:59:20.024538Z",
     "iopub.status.busy": "2023-05-18T20:59:20.023130Z",
     "iopub.status.idle": "2023-05-18T20:59:20.624534Z",
     "shell.execute_reply": "2023-05-18T20:59:20.623809Z",
     "shell.execute_reply.started": "2023-05-18T20:59:20.024506Z"
    }
   },
   "outputs": [
    {
     "name": "stdout",
     "output_type": "stream",
     "text": [
      "RMSE value is 0.3646491656998209\n",
      "R2 value is: 0.411432963149458\n"
     ]
    }
   ],
   "source": [
    "xgb_price = XGBRegressor(n_estimators=100, learning_rate=0.05)\n",
    "xgb_price.fit(Xtrain_price, ytrain_price)\n",
    "ypred_price = xgb_price.predict(Xtest_price)\n",
    "print('RMSE value is', np.sqrt(mean_squared_error(ytest_price, ypred_price)))\n",
    "print(\"R2 value is:\", r2_score(ytest_price, ypred_price))"
   ]
  },
  {
   "cell_type": "code",
   "execution_count": 17,
   "metadata": {
    "execution": {
     "iopub.execute_input": "2023-05-18T20:59:20.628614Z",
     "iopub.status.busy": "2023-05-18T20:59:20.627942Z",
     "iopub.status.idle": "2023-05-18T20:59:20.920137Z",
     "shell.execute_reply": "2023-05-18T20:59:20.919151Z",
     "shell.execute_reply.started": "2023-05-18T20:59:20.628586Z"
    }
   },
   "outputs": [
    {
     "data": {
      "image/png": "[encoded data removed]",
      "text/plain": [
       "<Figure size 640x480 with 1 Axes>"
      ]
     },
     "metadata": {},
     "output_type": "display_data"
    }
   ],
   "source": [
    "# plot feature importances\n",
    "fig, ax = plt.subplots()\n",
    "xgb.plot_importance(xgb_price, max_num_features=18, ax=ax)\n",
    "plt.title(\"Feature Importances by XGBoost\")\n",
    "plt.show()"
   ]
  },
  {
   "cell_type": "markdown",
   "metadata": {},
   "source": [
    "## Model 2: LightGBM"
   ]
  },
  {
   "cell_type": "code",
   "execution_count": 18,
   "metadata": {
    "execution": {
     "iopub.execute_input": "2023-05-18T20:59:20.922626Z",
     "iopub.status.busy": "2023-05-18T20:59:20.921613Z",
     "iopub.status.idle": "2023-05-18T20:59:21.128214Z",
     "shell.execute_reply": "2023-05-18T20:59:21.127389Z",
     "shell.execute_reply.started": "2023-05-18T20:59:20.922586Z"
    }
   },
   "outputs": [
    {
     "name": "stdout",
     "output_type": "stream",
     "text": [
      "RMSE value is 0.36610837145731095\n",
      "R2 value is: 0.40671303568003514\n"
     ]
    }
   ],
   "source": [
    "lgb_price = lgb.LGBMRegressor(n_estimators=100, learning_rate=0.05)\n",
    "lgb_price.fit(Xtrain_price, ytrain_price)\n",
    "ypred_price2 = lgb_price.predict(Xtest_price)\n",
    "print('RMSE value is', np.sqrt(mean_squared_error(ytest_price, ypred_price2)))\n",
    "print(\"R2 value is:\", r2_score(ytest_price, ypred_price2))"
   ]
  },
  {
   "cell_type": "code",
   "execution_count": 19,
   "metadata": {
    "execution": {
     "iopub.execute_input": "2023-05-18T20:59:21.130125Z",
     "iopub.status.busy": "2023-05-18T20:59:21.129480Z",
     "iopub.status.idle": "2023-05-18T20:59:21.390599Z",
     "shell.execute_reply": "2023-05-18T20:59:21.389583Z",
     "shell.execute_reply.started": "2023-05-18T20:59:21.130088Z"
    }
   },
   "outputs": [
    {
     "data": {
      "image/png": "[encoded data removed]",
      "text/plain": [
       "<Figure size 640x480 with 1 Axes>"
      ]
     },
     "metadata": {},
     "output_type": "display_data"
    }
   ],
   "source": [
    "# plot feature importances\n",
    "fig, ax = plt.subplots()\n",
    "lgb.plot_importance(lgb_price, max_num_features=18, ax=ax)\n",
    "plt.show()"
   ]
  },
  {
   "cell_type": "markdown",
   "metadata": {},
   "source": [
    "## Model 3: Linear Regression"
   ]
  },
  {
   "cell_type": "code",
   "execution_count": 20,
   "metadata": {
    "execution": {
     "iopub.execute_input": "2023-05-18T20:59:21.392778Z",
     "iopub.status.busy": "2023-05-18T20:59:21.392159Z",
     "iopub.status.idle": "2023-05-18T20:59:21.446558Z",
     "shell.execute_reply": "2023-05-18T20:59:21.445253Z",
     "shell.execute_reply.started": "2023-05-18T20:59:21.392741Z"
    }
   },
   "outputs": [
    {
     "name": "stdout",
     "output_type": "stream",
     "text": [
      "RMSE is: 0.3885494280875744\n",
      "R2 is: 0.3317514346649104\n",
      "Coefficients: [ 0.08873835  0.01636674 -0.03686919  0.07635042  0.00270657  0.33438546]\n"
     ]
    }
   ],
   "source": [
    "# Create linear regression object\n",
    "reg_price = LinearRegression()\n",
    "reg_price.fit(Xtrain_price, ytrain_price)\n",
    "y_pred = reg_price.predict(Xtest_price)\n",
    "\n",
    "mse = np.sqrt(mean_squared_error(ytest_price, y_pred))\n",
    "print(\"RMSE is:\", mse)\n",
    "print(\"R2 is:\", r2_score(ytest_price, y_pred))\n",
    "# Print the coefficients of linear reg\n",
    "print('Coefficients:', reg_price.coef_)"
   ]
  },
  {
   "cell_type": "markdown",
   "metadata": {},
   "source": [
    "# Predict: Rating"
   ]
  },
  {
   "cell_type": "code",
   "execution_count": 21,
   "metadata": {
    "execution": {
     "iopub.execute_input": "2023-05-18T20:59:21.456897Z",
     "iopub.status.busy": "2023-05-18T20:59:21.452802Z",
     "iopub.status.idle": "2023-05-18T20:59:21.468167Z",
     "shell.execute_reply": "2023-05-18T20:59:21.466603Z",
     "shell.execute_reply.started": "2023-05-18T20:59:21.456842Z"
    }
   },
   "outputs": [],
   "source": [
    "# only consider features we consider to be important to predict rating target variable\n",
    "columns_to_keep_rating = ['num_of_amenities','current_price_cleaned','rating', 'is_superhost', \n",
    "                          'rating_Accuracy', 'rating_Value', 'rating_Cleanliness']"
   ]
  },
  {
   "cell_type": "code",
   "execution_count": 22,
   "metadata": {
    "execution": {
     "iopub.execute_input": "2023-05-18T20:59:21.475669Z",
     "iopub.status.busy": "2023-05-18T20:59:21.474402Z",
     "iopub.status.idle": "2023-05-18T20:59:21.505907Z",
     "shell.execute_reply": "2023-05-18T20:59:21.503757Z",
     "shell.execute_reply.started": "2023-05-18T20:59:21.475617Z"
    }
   },
   "outputs": [
    {
     "name": "stdout",
     "output_type": "stream",
     "text": [
      "<class 'pandas.core.frame.DataFrame'>\n",
      "Int64Index: 11651 entries, 0 to 13445\n",
      "Data columns (total 7 columns):\n",
      " #   Column                 Non-Null Count  Dtype  \n",
      "---  ------                 --------------  -----  \n",
      " 0   num_of_amenities       11651 non-null  int64  \n",
      " 1   current_price_cleaned  11651 non-null  int64  \n",
      " 2   rating                 11651 non-null  float64\n",
      " 3   is_superhost           11651 non-null  int64  \n",
      " 4   rating_Accuracy        11651 non-null  float64\n",
      " 5   rating_Value           11651 non-null  float64\n",
      " 6   rating_Cleanliness     11651 non-null  float64\n",
      "dtypes: float64(4), int64(3)\n",
      "memory usage: 728.2 KB\n"
     ]
    }
   ],
   "source": [
    "df_rating = reduced_df[columns_to_keep_rating]\n",
    "df_rating.info()"
   ]
  },
  {
   "cell_type": "code",
   "execution_count": 23,
   "metadata": {
    "execution": {
     "iopub.execute_input": "2023-05-18T20:59:21.507593Z",
     "iopub.status.busy": "2023-05-18T20:59:21.507274Z",
     "iopub.status.idle": "2023-05-18T20:59:21.523745Z",
     "shell.execute_reply": "2023-05-18T20:59:21.522480Z",
     "shell.execute_reply.started": "2023-05-18T20:59:21.507564Z"
    }
   },
   "outputs": [],
   "source": [
    "# train-test split\n",
    "X_rating = df_rating.drop(columns=['rating'])\n",
    "y_rating = df_rating['rating']\n",
    "\n",
    "Xtrain_rating, Xtest_rating, ytrain_rating, ytest_rating = train_test_split(X_rating, y_rating, test_size=0.2, random_state=3)"
   ]
  },
  {
   "cell_type": "code",
   "execution_count": 24,
   "metadata": {
    "execution": {
     "iopub.execute_input": "2023-05-18T20:59:21.525517Z",
     "iopub.status.busy": "2023-05-18T20:59:21.525139Z",
     "iopub.status.idle": "2023-05-18T20:59:21.537396Z",
     "shell.execute_reply": "2023-05-18T20:59:21.535736Z",
     "shell.execute_reply.started": "2023-05-18T20:59:21.525483Z"
    }
   },
   "outputs": [
    {
     "data": {
      "text/plain": [
       "((9320, 6), (2331, 6))"
      ]
     },
     "execution_count": 24,
     "metadata": {},
     "output_type": "execute_result"
    }
   ],
   "source": [
    "Xtrain_rating.shape, Xtest_rating.shape"
   ]
  },
  {
   "cell_type": "markdown",
   "metadata": {},
   "source": [
    "## Model 1: XGBoost"
   ]
  },
  {
   "cell_type": "code",
   "execution_count": 25,
   "metadata": {
    "execution": {
     "iopub.execute_input": "2023-05-18T20:59:21.538930Z",
     "iopub.status.busy": "2023-05-18T20:59:21.538371Z",
     "iopub.status.idle": "2023-05-18T20:59:23.739883Z",
     "shell.execute_reply": "2023-05-18T20:59:23.739134Z",
     "shell.execute_reply.started": "2023-05-18T20:59:21.538896Z"
    }
   },
   "outputs": [
    {
     "name": "stdout",
     "output_type": "stream",
     "text": [
      "RMSE value is 0.07230630461703953\n",
      "R2 value is: 0.8580552904666215\n"
     ]
    }
   ],
   "source": [
    "xgb_rating = XGBRegressor(n_estimators=300, learning_rate=0.05)\n",
    "xgb_rating.fit(Xtrain_rating, ytrain_rating)\n",
    "ypred_rating = xgb_rating.predict(Xtest_rating)\n",
    "print('RMSE value is', np.sqrt(mean_squared_error(ytest_rating, ypred_rating)))\n",
    "print(\"R2 value is:\", r2_score(ytest_rating, ypred_rating))"
   ]
  },
  {
   "cell_type": "code",
   "execution_count": 26,
   "metadata": {
    "execution": {
     "iopub.execute_input": "2023-05-18T20:59:23.745663Z",
     "iopub.status.busy": "2023-05-18T20:59:23.743852Z",
     "iopub.status.idle": "2023-05-18T20:59:24.012318Z",
     "shell.execute_reply": "2023-05-18T20:59:24.011383Z",
     "shell.execute_reply.started": "2023-05-18T20:59:23.745631Z"
    }
   },
   "outputs": [
    {
     "data": {
      "image/png": "[encoded data removed]",
      "text/plain": [
       "<Figure size 640x480 with 1 Axes>"
      ]
     },
     "metadata": {},
     "output_type": "display_data"
    }
   ],
   "source": [
    "# plot feature importances\n",
    "fig, ax = plt.subplots()\n",
    "xgb.plot_importance(xgb_rating, max_num_features=18, ax=ax)\n",
    "plt.title(\"Feature Importances by XGBoost\")\n",
    "plt.show()"
   ]
  },
  {
   "cell_type": "markdown",
   "metadata": {},
   "source": [
    "## Model 2: LightGBM"
   ]
  },
  {
   "cell_type": "code",
   "execution_count": 27,
   "metadata": {
    "execution": {
     "iopub.execute_input": "2023-05-18T20:59:24.014143Z",
     "iopub.status.busy": "2023-05-18T20:59:24.013633Z",
     "iopub.status.idle": "2023-05-18T20:59:24.159327Z",
     "shell.execute_reply": "2023-05-18T20:59:24.158571Z",
     "shell.execute_reply.started": "2023-05-18T20:59:24.014111Z"
    }
   },
   "outputs": [
    {
     "name": "stdout",
     "output_type": "stream",
     "text": [
      "RMSE value is 0.07198489481120682\n",
      "R2 value is: 0.8593144067588067\n"
     ]
    }
   ],
   "source": [
    "lgb_rating = lgb.LGBMRegressor(n_estimators=100, learning_rate=0.05)\n",
    "lgb_rating.fit(Xtrain_rating, ytrain_rating)\n",
    "ypred_rating2 = lgb_rating.predict(Xtest_rating)\n",
    "print('RMSE value is', np.sqrt(mean_squared_error(ytest_rating, ypred_rating2)))\n",
    "print(\"R2 value is:\", r2_score(ytest_rating, ypred_rating2))"
   ]
  },
  {
   "cell_type": "code",
   "execution_count": 28,
   "metadata": {
    "execution": {
     "iopub.execute_input": "2023-05-18T20:59:24.166689Z",
     "iopub.status.busy": "2023-05-18T20:59:24.166113Z",
     "iopub.status.idle": "2023-05-18T20:59:24.434223Z",
     "shell.execute_reply": "2023-05-18T20:59:24.433352Z",
     "shell.execute_reply.started": "2023-05-18T20:59:24.166657Z"
    }
   },
   "outputs": [
    {
     "data": {
      "image/png": "[encoded data removed]",
      "text/plain": [
       "<Figure size 640x480 with 1 Axes>"
      ]
     },
     "metadata": {},
     "output_type": "display_data"
    }
   ],
   "source": [
    "# plot feature importances\n",
    "fig, ax = plt.subplots()\n",
    "lgb.plot_importance(lgb_rating, max_num_features=18, ax=ax)\n",
    "plt.show()"
   ]
  },
  {
   "cell_type": "markdown",
   "metadata": {},
   "source": [
    "## Model 3: Linear Regression"
   ]
  },
  {
   "cell_type": "code",
   "execution_count": 29,
   "metadata": {
    "execution": {
     "iopub.execute_input": "2023-05-18T20:59:24.436352Z",
     "iopub.status.busy": "2023-05-18T20:59:24.435574Z",
     "iopub.status.idle": "2023-05-18T20:59:24.455464Z",
     "shell.execute_reply": "2023-05-18T20:59:24.454324Z",
     "shell.execute_reply.started": "2023-05-18T20:59:24.436318Z"
    }
   },
   "outputs": [
    {
     "name": "stdout",
     "output_type": "stream",
     "text": [
      "RMSE is: 0.0718204287243615\n",
      "R2 is: 0.8599565297208178\n",
      "Coefficients: [2.86690064e-04 1.57595287e-04 2.41592342e-02 4.31416839e-01\n",
      " 3.45375672e-01 2.27066967e-01]\n"
     ]
    }
   ],
   "source": [
    "# Create linear regression object\n",
    "reg_rating = LinearRegression()\n",
    "reg_rating.fit(Xtrain_rating, ytrain_rating)\n",
    "y_pred_rating = reg_rating.predict(Xtest_rating)\n",
    "\n",
    "mse = np.sqrt(mean_squared_error(ytest_rating, y_pred_rating))\n",
    "print(\"RMSE is:\", mse)\n",
    "print(\"R2 is:\", r2_score(ytest_rating, y_pred_rating))\n",
    "# Print the coefficients for linear reg\n",
    "print('Coefficients:', reg_rating.coef_)"
   ]
  }
 ],
 "metadata": {
  "kernelspec": {
   "display_name": "Python 3 (ipykernel)",
   "language": "python",
   "name": "python3"
  },
  "language_info": {
   "codemirror_mode": {
    "name": "ipython",
    "version": 3
   },
   "file_extension": ".py",
   "mimetype": "text/x-python",
   "name": "python",
   "nbconvert_exporter": "python",
   "pygments_lexer": "ipython3",
   "version": "3.10.5"
  }
 },
 "nbformat": 4,
 "nbformat_minor": 4
}
